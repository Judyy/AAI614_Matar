{
  "cells": [
    {
      "cell_type": "markdown",
      "metadata": {
        "id": "view-in-github",
        "colab_type": "text"
      },
      "source": [
        "<a href=\"https://colab.research.google.com/github/Judyy/AAI614_Matar/blob/main/Notebook_outliers_IQR.ipynb\" target=\"_parent\"><img src=\"https://colab.research.google.com/assets/colab-badge.svg\" alt=\"Open In Colab\"/></a>"
      ]
    },
    {
      "cell_type": "markdown",
      "id": "61ea5f6e-6458-4301-85d3-76062b1922a6",
      "metadata": {
        "id": "61ea5f6e-6458-4301-85d3-76062b1922a6"
      },
      "source": [
        "# AAI614: Data Science & its Applications\n",
        "\n",
        "*Notebook_outliers_IQR Practice with Data Cleaning*\n",
        "\n"
      ]
    },
    {
      "cell_type": "code",
      "execution_count": null,
      "id": "c94dc240",
      "metadata": {
        "id": "c94dc240"
      },
      "outputs": [],
      "source": [
        "import pandas as pd\n",
        "import ssl\n",
        "\n",
        "ssl._create_default_https_context = ssl._create_unverified_context"
      ]
    },
    {
      "cell_type": "markdown",
      "id": "eb53db49",
      "metadata": {
        "id": "eb53db49"
      },
      "source": [
        " Load the datafile from GitHub"
      ]
    },
    {
      "cell_type": "code",
      "execution_count": null,
      "id": "dfd04802",
      "metadata": {
        "id": "dfd04802"
      },
      "outputs": [],
      "source": [
        "grads = pd.read_csv(\"https://raw.githubusercontent.com/harmanani/AAI614/main/Week%203/grads.csv\")"
      ]
    },
    {
      "cell_type": "code",
      "execution_count": null,
      "id": "674715ec",
      "metadata": {
        "colab": {
          "base_uri": "https://localhost:8080/",
          "height": 331
        },
        "id": "674715ec",
        "outputId": "ff419ae8-7918-49e4-a8a5-b76b7a26c7ff"
      },
      "outputs": [
        {
          "output_type": "execute_result",
          "data": {
            "text/plain": [
              "  Student Name  Avg Hours Studies per Week  GPA     University  \\\n",
              "0       George                          20  NaN            NYU   \n",
              "1        Jerry                          35  3.5       Columbia   \n",
              "2       Elaine                          55  4.0       Columbia   \n",
              "3        Cosmo                           5  2.0   City College   \n",
              "4       Newman                          25  2.8   City College   \n",
              "5        Frank                          35  3.0   Festivus Uni   \n",
              "6      Estelle                         100  3.2  Festivus Uni    \n",
              "7          Leo                          15  2.4   Festivus Uni   \n",
              "8       Rachel                          50  4.0       Columbia   \n",
              "\n",
              "   Sense of Humour (0-5) Salary  \n",
              "0                    3.0   $40k  \n",
              "1                    5.0   $80k  \n",
              "2                    4.2   $60k  \n",
              "3                    2.0   $25k  \n",
              "4                    0.0   $50k  \n",
              "5                    NaN   $40k  \n",
              "6                    1.7    $0k  \n",
              "7                    0.0   $35k  \n",
              "8                    NaN   $75k  "
            ],
            "text/html": [
              "\n",
              "  <div id=\"df-1137558b-b597-4bde-b743-08c423af0aa4\" class=\"colab-df-container\">\n",
              "    <div>\n",
              "<style scoped>\n",
              "    .dataframe tbody tr th:only-of-type {\n",
              "        vertical-align: middle;\n",
              "    }\n",
              "\n",
              "    .dataframe tbody tr th {\n",
              "        vertical-align: top;\n",
              "    }\n",
              "\n",
              "    .dataframe thead th {\n",
              "        text-align: right;\n",
              "    }\n",
              "</style>\n",
              "<table border=\"1\" class=\"dataframe\">\n",
              "  <thead>\n",
              "    <tr style=\"text-align: right;\">\n",
              "      <th></th>\n",
              "      <th>Student Name</th>\n",
              "      <th>Avg Hours Studies per Week</th>\n",
              "      <th>GPA</th>\n",
              "      <th>University</th>\n",
              "      <th>Sense of Humour (0-5)</th>\n",
              "      <th>Salary</th>\n",
              "    </tr>\n",
              "  </thead>\n",
              "  <tbody>\n",
              "    <tr>\n",
              "      <th>0</th>\n",
              "      <td>George</td>\n",
              "      <td>20</td>\n",
              "      <td>NaN</td>\n",
              "      <td>NYU</td>\n",
              "      <td>3.0</td>\n",
              "      <td>$40k</td>\n",
              "    </tr>\n",
              "    <tr>\n",
              "      <th>1</th>\n",
              "      <td>Jerry</td>\n",
              "      <td>35</td>\n",
              "      <td>3.5</td>\n",
              "      <td>Columbia</td>\n",
              "      <td>5.0</td>\n",
              "      <td>$80k</td>\n",
              "    </tr>\n",
              "    <tr>\n",
              "      <th>2</th>\n",
              "      <td>Elaine</td>\n",
              "      <td>55</td>\n",
              "      <td>4.0</td>\n",
              "      <td>Columbia</td>\n",
              "      <td>4.2</td>\n",
              "      <td>$60k</td>\n",
              "    </tr>\n",
              "    <tr>\n",
              "      <th>3</th>\n",
              "      <td>Cosmo</td>\n",
              "      <td>5</td>\n",
              "      <td>2.0</td>\n",
              "      <td>City College</td>\n",
              "      <td>2.0</td>\n",
              "      <td>$25k</td>\n",
              "    </tr>\n",
              "    <tr>\n",
              "      <th>4</th>\n",
              "      <td>Newman</td>\n",
              "      <td>25</td>\n",
              "      <td>2.8</td>\n",
              "      <td>City College</td>\n",
              "      <td>0.0</td>\n",
              "      <td>$50k</td>\n",
              "    </tr>\n",
              "    <tr>\n",
              "      <th>5</th>\n",
              "      <td>Frank</td>\n",
              "      <td>35</td>\n",
              "      <td>3.0</td>\n",
              "      <td>Festivus Uni</td>\n",
              "      <td>NaN</td>\n",
              "      <td>$40k</td>\n",
              "    </tr>\n",
              "    <tr>\n",
              "      <th>6</th>\n",
              "      <td>Estelle</td>\n",
              "      <td>100</td>\n",
              "      <td>3.2</td>\n",
              "      <td>Festivus Uni</td>\n",
              "      <td>1.7</td>\n",
              "      <td>$0k</td>\n",
              "    </tr>\n",
              "    <tr>\n",
              "      <th>7</th>\n",
              "      <td>Leo</td>\n",
              "      <td>15</td>\n",
              "      <td>2.4</td>\n",
              "      <td>Festivus Uni</td>\n",
              "      <td>0.0</td>\n",
              "      <td>$35k</td>\n",
              "    </tr>\n",
              "    <tr>\n",
              "      <th>8</th>\n",
              "      <td>Rachel</td>\n",
              "      <td>50</td>\n",
              "      <td>4.0</td>\n",
              "      <td>Columbia</td>\n",
              "      <td>NaN</td>\n",
              "      <td>$75k</td>\n",
              "    </tr>\n",
              "  </tbody>\n",
              "</table>\n",
              "</div>\n",
              "    <div class=\"colab-df-buttons\">\n",
              "\n",
              "  <div class=\"colab-df-container\">\n",
              "    <button class=\"colab-df-convert\" onclick=\"convertToInteractive('df-1137558b-b597-4bde-b743-08c423af0aa4')\"\n",
              "            title=\"Convert this dataframe to an interactive table.\"\n",
              "            style=\"display:none;\">\n",
              "\n",
              "  <svg xmlns=\"http://www.w3.org/2000/svg\" height=\"24px\" viewBox=\"0 -960 960 960\">\n",
              "    <path d=\"M120-120v-720h720v720H120Zm60-500h600v-160H180v160Zm220 220h160v-160H400v160Zm0 220h160v-160H400v160ZM180-400h160v-160H180v160Zm440 0h160v-160H620v160ZM180-180h160v-160H180v160Zm440 0h160v-160H620v160Z\"/>\n",
              "  </svg>\n",
              "    </button>\n",
              "\n",
              "  <style>\n",
              "    .colab-df-container {\n",
              "      display:flex;\n",
              "      gap: 12px;\n",
              "    }\n",
              "\n",
              "    .colab-df-convert {\n",
              "      background-color: #E8F0FE;\n",
              "      border: none;\n",
              "      border-radius: 50%;\n",
              "      cursor: pointer;\n",
              "      display: none;\n",
              "      fill: #1967D2;\n",
              "      height: 32px;\n",
              "      padding: 0 0 0 0;\n",
              "      width: 32px;\n",
              "    }\n",
              "\n",
              "    .colab-df-convert:hover {\n",
              "      background-color: #E2EBFA;\n",
              "      box-shadow: 0px 1px 2px rgba(60, 64, 67, 0.3), 0px 1px 3px 1px rgba(60, 64, 67, 0.15);\n",
              "      fill: #174EA6;\n",
              "    }\n",
              "\n",
              "    .colab-df-buttons div {\n",
              "      margin-bottom: 4px;\n",
              "    }\n",
              "\n",
              "    [theme=dark] .colab-df-convert {\n",
              "      background-color: #3B4455;\n",
              "      fill: #D2E3FC;\n",
              "    }\n",
              "\n",
              "    [theme=dark] .colab-df-convert:hover {\n",
              "      background-color: #434B5C;\n",
              "      box-shadow: 0px 1px 3px 1px rgba(0, 0, 0, 0.15);\n",
              "      filter: drop-shadow(0px 1px 2px rgba(0, 0, 0, 0.3));\n",
              "      fill: #FFFFFF;\n",
              "    }\n",
              "  </style>\n",
              "\n",
              "    <script>\n",
              "      const buttonEl =\n",
              "        document.querySelector('#df-1137558b-b597-4bde-b743-08c423af0aa4 button.colab-df-convert');\n",
              "      buttonEl.style.display =\n",
              "        google.colab.kernel.accessAllowed ? 'block' : 'none';\n",
              "\n",
              "      async function convertToInteractive(key) {\n",
              "        const element = document.querySelector('#df-1137558b-b597-4bde-b743-08c423af0aa4');\n",
              "        const dataTable =\n",
              "          await google.colab.kernel.invokeFunction('convertToInteractive',\n",
              "                                                    [key], {});\n",
              "        if (!dataTable) return;\n",
              "\n",
              "        const docLinkHtml = 'Like what you see? Visit the ' +\n",
              "          '<a target=\"_blank\" href=https://colab.research.google.com/notebooks/data_table.ipynb>data table notebook</a>'\n",
              "          + ' to learn more about interactive tables.';\n",
              "        element.innerHTML = '';\n",
              "        dataTable['output_type'] = 'display_data';\n",
              "        await google.colab.output.renderOutput(dataTable, element);\n",
              "        const docLink = document.createElement('div');\n",
              "        docLink.innerHTML = docLinkHtml;\n",
              "        element.appendChild(docLink);\n",
              "      }\n",
              "    </script>\n",
              "  </div>\n",
              "\n",
              "\n",
              "<div id=\"df-b3e68c01-77c5-4792-a641-17efb982640c\">\n",
              "  <button class=\"colab-df-quickchart\" onclick=\"quickchart('df-b3e68c01-77c5-4792-a641-17efb982640c')\"\n",
              "            title=\"Suggest charts\"\n",
              "            style=\"display:none;\">\n",
              "\n",
              "<svg xmlns=\"http://www.w3.org/2000/svg\" height=\"24px\"viewBox=\"0 0 24 24\"\n",
              "     width=\"24px\">\n",
              "    <g>\n",
              "        <path d=\"M19 3H5c-1.1 0-2 .9-2 2v14c0 1.1.9 2 2 2h14c1.1 0 2-.9 2-2V5c0-1.1-.9-2-2-2zM9 17H7v-7h2v7zm4 0h-2V7h2v10zm4 0h-2v-4h2v4z\"/>\n",
              "    </g>\n",
              "</svg>\n",
              "  </button>\n",
              "\n",
              "<style>\n",
              "  .colab-df-quickchart {\n",
              "      --bg-color: #E8F0FE;\n",
              "      --fill-color: #1967D2;\n",
              "      --hover-bg-color: #E2EBFA;\n",
              "      --hover-fill-color: #174EA6;\n",
              "      --disabled-fill-color: #AAA;\n",
              "      --disabled-bg-color: #DDD;\n",
              "  }\n",
              "\n",
              "  [theme=dark] .colab-df-quickchart {\n",
              "      --bg-color: #3B4455;\n",
              "      --fill-color: #D2E3FC;\n",
              "      --hover-bg-color: #434B5C;\n",
              "      --hover-fill-color: #FFFFFF;\n",
              "      --disabled-bg-color: #3B4455;\n",
              "      --disabled-fill-color: #666;\n",
              "  }\n",
              "\n",
              "  .colab-df-quickchart {\n",
              "    background-color: var(--bg-color);\n",
              "    border: none;\n",
              "    border-radius: 50%;\n",
              "    cursor: pointer;\n",
              "    display: none;\n",
              "    fill: var(--fill-color);\n",
              "    height: 32px;\n",
              "    padding: 0;\n",
              "    width: 32px;\n",
              "  }\n",
              "\n",
              "  .colab-df-quickchart:hover {\n",
              "    background-color: var(--hover-bg-color);\n",
              "    box-shadow: 0 1px 2px rgba(60, 64, 67, 0.3), 0 1px 3px 1px rgba(60, 64, 67, 0.15);\n",
              "    fill: var(--button-hover-fill-color);\n",
              "  }\n",
              "\n",
              "  .colab-df-quickchart-complete:disabled,\n",
              "  .colab-df-quickchart-complete:disabled:hover {\n",
              "    background-color: var(--disabled-bg-color);\n",
              "    fill: var(--disabled-fill-color);\n",
              "    box-shadow: none;\n",
              "  }\n",
              "\n",
              "  .colab-df-spinner {\n",
              "    border: 2px solid var(--fill-color);\n",
              "    border-color: transparent;\n",
              "    border-bottom-color: var(--fill-color);\n",
              "    animation:\n",
              "      spin 1s steps(1) infinite;\n",
              "  }\n",
              "\n",
              "  @keyframes spin {\n",
              "    0% {\n",
              "      border-color: transparent;\n",
              "      border-bottom-color: var(--fill-color);\n",
              "      border-left-color: var(--fill-color);\n",
              "    }\n",
              "    20% {\n",
              "      border-color: transparent;\n",
              "      border-left-color: var(--fill-color);\n",
              "      border-top-color: var(--fill-color);\n",
              "    }\n",
              "    30% {\n",
              "      border-color: transparent;\n",
              "      border-left-color: var(--fill-color);\n",
              "      border-top-color: var(--fill-color);\n",
              "      border-right-color: var(--fill-color);\n",
              "    }\n",
              "    40% {\n",
              "      border-color: transparent;\n",
              "      border-right-color: var(--fill-color);\n",
              "      border-top-color: var(--fill-color);\n",
              "    }\n",
              "    60% {\n",
              "      border-color: transparent;\n",
              "      border-right-color: var(--fill-color);\n",
              "    }\n",
              "    80% {\n",
              "      border-color: transparent;\n",
              "      border-right-color: var(--fill-color);\n",
              "      border-bottom-color: var(--fill-color);\n",
              "    }\n",
              "    90% {\n",
              "      border-color: transparent;\n",
              "      border-bottom-color: var(--fill-color);\n",
              "    }\n",
              "  }\n",
              "</style>\n",
              "\n",
              "  <script>\n",
              "    async function quickchart(key) {\n",
              "      const quickchartButtonEl =\n",
              "        document.querySelector('#' + key + ' button');\n",
              "      quickchartButtonEl.disabled = true;  // To prevent multiple clicks.\n",
              "      quickchartButtonEl.classList.add('colab-df-spinner');\n",
              "      try {\n",
              "        const charts = await google.colab.kernel.invokeFunction(\n",
              "            'suggestCharts', [key], {});\n",
              "      } catch (error) {\n",
              "        console.error('Error during call to suggestCharts:', error);\n",
              "      }\n",
              "      quickchartButtonEl.classList.remove('colab-df-spinner');\n",
              "      quickchartButtonEl.classList.add('colab-df-quickchart-complete');\n",
              "    }\n",
              "    (() => {\n",
              "      let quickchartButtonEl =\n",
              "        document.querySelector('#df-b3e68c01-77c5-4792-a641-17efb982640c button');\n",
              "      quickchartButtonEl.style.display =\n",
              "        google.colab.kernel.accessAllowed ? 'block' : 'none';\n",
              "    })();\n",
              "  </script>\n",
              "</div>\n",
              "\n",
              "    </div>\n",
              "  </div>\n"
            ],
            "application/vnd.google.colaboratory.intrinsic+json": {
              "type": "dataframe",
              "variable_name": "grads",
              "summary": "{\n  \"name\": \"grads\",\n  \"rows\": 9,\n  \"fields\": [\n    {\n      \"column\": \"Student Name\",\n      \"properties\": {\n        \"dtype\": \"string\",\n        \"num_unique_values\": 9,\n        \"samples\": [\n          \"Leo\",\n          \"Jerry\",\n          \"Frank\"\n        ],\n        \"semantic_type\": \"\",\n        \"description\": \"\"\n      }\n    },\n    {\n      \"column\": \"Avg Hours Studies per Week\",\n      \"properties\": {\n        \"dtype\": \"number\",\n        \"std\": 28,\n        \"min\": 5,\n        \"max\": 100,\n        \"num_unique_values\": 8,\n        \"samples\": [\n          35,\n          100,\n          20\n        ],\n        \"semantic_type\": \"\",\n        \"description\": \"\"\n      }\n    },\n    {\n      \"column\": \"GPA\",\n      \"properties\": {\n        \"dtype\": \"number\",\n        \"std\": 0.7160157619972982,\n        \"min\": 2.0,\n        \"max\": 4.0,\n        \"num_unique_values\": 7,\n        \"samples\": [\n          3.5,\n          4.0,\n          3.2\n        ],\n        \"semantic_type\": \"\",\n        \"description\": \"\"\n      }\n    },\n    {\n      \"column\": \"University\",\n      \"properties\": {\n        \"dtype\": \"string\",\n        \"num_unique_values\": 6,\n        \"samples\": [\n          \" NYU\",\n          \"Columbia\",\n          \"Festivus Uni \"\n        ],\n        \"semantic_type\": \"\",\n        \"description\": \"\"\n      }\n    },\n    {\n      \"column\": \"Sense of Humour (0-5)\",\n      \"properties\": {\n        \"dtype\": \"number\",\n        \"std\": 1.932799597918596,\n        \"min\": 0.0,\n        \"max\": 5.0,\n        \"num_unique_values\": 6,\n        \"samples\": [\n          3.0,\n          5.0,\n          1.7\n        ],\n        \"semantic_type\": \"\",\n        \"description\": \"\"\n      }\n    },\n    {\n      \"column\": \"Salary\",\n      \"properties\": {\n        \"dtype\": \"string\",\n        \"num_unique_values\": 9,\n        \"samples\": [\n          \" $35k\",\n          \"$80k\",\n          \"$40k\"\n        ],\n        \"semantic_type\": \"\",\n        \"description\": \"\"\n      }\n    }\n  ]\n}"
            }
          },
          "metadata": {},
          "execution_count": 41
        }
      ],
      "source": [
        "grads.head(100)"
      ]
    },
    {
      "cell_type": "markdown",
      "id": "9283d451",
      "metadata": {
        "id": "9283d451"
      },
      "source": [
        "Code for Analyzing and Sharing Outliers Using TfidfVectorizer"
      ]
    },
    {
      "cell_type": "code",
      "execution_count": null,
      "id": "a2214233-8c6d-4f36-b990-8bc72c4e49df",
      "metadata": {
        "colab": {
          "base_uri": "https://localhost:8080/"
        },
        "id": "a2214233-8c6d-4f36-b990-8bc72c4e49df",
        "outputId": "d6db8bc9-1e8b-435c-f65f-914ab9474987"
      },
      "outputs": [
        {
          "output_type": "stream",
          "name": "stdout",
          "text": [
            "TF-IDF Features DataFrame:\n",
            "       avg  studies  studies per\n",
            "0  0.00000  0.00000      0.00000\n",
            "1  0.57735  0.57735      0.57735\n",
            "2  0.00000  0.00000      0.00000\n",
            "3  0.00000  0.00000      0.00000\n",
            "4  0.00000  0.00000      0.00000\n",
            "5  0.00000  0.00000      0.00000\n"
          ]
        }
      ],
      "source": [
        "from sklearn.feature_extraction.text import TfidfVectorizer\n",
        "# Step 1: Use TfidfVectorizer with custom parameters\n",
        "vec = TfidfVectorizer(max_features=3, ngram_range=(1, 2))\n",
        "X = vec.fit_transform(grads)\n",
        "\n",
        "# Step 2: Convert the TF-IDF result into a DataFrame for easier interpretation\n",
        "df_tfidf = pd.DataFrame(X.toarray(), columns=vec.get_feature_names_out())\n",
        "\n",
        "# Step 3: Print and analyze the DataFrame\n",
        "print(\"TF-IDF Features DataFrame:\")\n",
        "print(df_tfidf)"
      ]
    },
    {
      "cell_type": "markdown",
      "source": [
        "The columns avg, studies, and studies per are the features selected by the TfidfVectorizer. These terms were identified as significant based on the frequency and distribution in the sample text data."
      ],
      "metadata": {
        "id": "SSC7YuvFh0xL"
      },
      "id": "SSC7YuvFh0xL"
    },
    {
      "cell_type": "markdown",
      "id": "00a84c10-ca5b-479c-869e-9958e6f1c0f2",
      "metadata": {
        "id": "00a84c10-ca5b-479c-869e-9958e6f1c0f2"
      },
      "source": [
        "Another method is to find the outliers using IQR method."
      ]
    },
    {
      "cell_type": "code",
      "source": [
        "print(df['Values'].dtype)\n"
      ],
      "metadata": {
        "colab": {
          "base_uri": "https://localhost:8080/"
        },
        "id": "pl8ht3V0jpHj",
        "outputId": "ba40d995-f8ad-4263-c8ba-867792c0a985"
      },
      "id": "pl8ht3V0jpHj",
      "execution_count": null,
      "outputs": [
        {
          "output_type": "stream",
          "name": "stdout",
          "text": [
            "float64\n"
          ]
        }
      ]
    },
    {
      "cell_type": "code",
      "source": [
        "df['Values'] = pd.to_numeric(df['Values'], errors='coerce')"
      ],
      "metadata": {
        "id": "NztMlqjmjsYI"
      },
      "id": "NztMlqjmjsYI",
      "execution_count": null,
      "outputs": []
    },
    {
      "cell_type": "code",
      "source": [
        "print(df.isnull().sum())\n"
      ],
      "metadata": {
        "colab": {
          "base_uri": "https://localhost:8080/"
        },
        "id": "PDDsMOc4jwFp",
        "outputId": "9b124a0c-386b-406a-c7d6-f7fec6c33bfe"
      },
      "id": "PDDsMOc4jwFp",
      "execution_count": null,
      "outputs": [
        {
          "output_type": "stream",
          "name": "stdout",
          "text": [
            "Values    0\n",
            "dtype: int64\n"
          ]
        }
      ]
    },
    {
      "cell_type": "code",
      "source": [
        "df = df.dropna()  # This will remove rows with NaN values\n"
      ],
      "metadata": {
        "id": "hDFcbmDQjzN4"
      },
      "id": "hDFcbmDQjzN4",
      "execution_count": null,
      "outputs": []
    },
    {
      "cell_type": "code",
      "source": [
        "print(df.isnull().sum())"
      ],
      "metadata": {
        "colab": {
          "base_uri": "https://localhost:8080/"
        },
        "id": "1CN-7s40j1Fg",
        "outputId": "d33f5eb2-a16d-44c8-9442-061d219e85b4"
      },
      "id": "1CN-7s40j1Fg",
      "execution_count": null,
      "outputs": [
        {
          "output_type": "stream",
          "name": "stdout",
          "text": [
            "Values    0\n",
            "dtype: int64\n"
          ]
        }
      ]
    },
    {
      "cell_type": "code",
      "source": [
        "#Knowing that the salary column can be considered as a number column. removing the $ and k sign is mandatory before transforming this to int\n",
        "grads['Salary'] = grads['Salary'].str.replace('$', '').str.replace('k', '').astype(int)\n",
        "numerical_columns = [\"Avg Hours Studies per Week\", \"GPA\", \"Sense of Humour (0-5)\",\"Salary\"]"
      ],
      "metadata": {
        "id": "Z7v0u_dWbA26"
      },
      "id": "Z7v0u_dWbA26",
      "execution_count": null,
      "outputs": []
    },
    {
      "cell_type": "code",
      "source": [
        "def find_outliers_iqr(column,col):\n",
        "    Q1 = column.quantile(0.25)\n",
        "    Q3 = column.quantile(0.75)\n",
        "    IQR = Q3 - Q1\n",
        "    lower_bound = Q1 - 1.5 * IQR\n",
        "    upper_bound = Q3 + 1.5 * IQR\n",
        "    #print(f\"For column {col}:\\n    lower_bound is {lower_bound} \\n    upper_bound is: {upper_bound}\")\n",
        "    outliers = column[(column < lower_bound) | (column > upper_bound)]\n",
        "    return outliers\n",
        "\n",
        "# Identify outliers for numerical columns\n",
        "outliers = {}\n",
        "numerical_columns = [\"Avg Hours Studies per Week\", \"GPA\", \"Sense of Humour (0-5)\",\"Salary\"]\n",
        "for col in numerical_columns:\n",
        "    outliers[col] = find_outliers_iqr(grads[col],col)\n",
        "\n",
        "# Print outliers\n",
        "for col, outlier_values in outliers.items():\n",
        "    print(f\"Outliers in {col}:\")\n",
        "    print(outlier_values)\n",
        "    print()"
      ],
      "metadata": {
        "colab": {
          "base_uri": "https://localhost:8080/"
        },
        "id": "rIbG6P6njfRX",
        "outputId": "96a9b4b4-dde0-47f3-bf50-ec606a4b1128"
      },
      "id": "rIbG6P6njfRX",
      "execution_count": null,
      "outputs": [
        {
          "output_type": "stream",
          "name": "stdout",
          "text": [
            "Outliers in Avg Hours Studies per Week:\n",
            "6    100\n",
            "Name: Avg Hours Studies per Week, dtype: int64\n",
            "\n",
            "Outliers in GPA:\n",
            "Series([], Name: GPA, dtype: float64)\n",
            "\n",
            "Outliers in Sense of Humour (0-5):\n",
            "Series([], Name: Sense of Humour (0-5), dtype: float64)\n",
            "\n",
            "Outliers in Salary:\n",
            "Series([], Name: Salary, dtype: int64)\n",
            "\n"
          ]
        }
      ]
    },
    {
      "cell_type": "code",
      "source": [
        "print(grads)"
      ],
      "metadata": {
        "colab": {
          "base_uri": "https://localhost:8080/"
        },
        "id": "4sR2-lYeaGJy",
        "outputId": "2bb2b26d-210e-44e8-d1b6-8fd4e47000f7"
      },
      "id": "4sR2-lYeaGJy",
      "execution_count": null,
      "outputs": [
        {
          "output_type": "stream",
          "name": "stdout",
          "text": [
            "  Student Name  Avg Hours Studies per Week  GPA     University  \\\n",
            "0       George                          20  NaN            NYU   \n",
            "1        Jerry                          35  3.5       Columbia   \n",
            "2       Elaine                          55  4.0       Columbia   \n",
            "3        Cosmo                           5  2.0   City College   \n",
            "4       Newman                          25  2.8   City College   \n",
            "5        Frank                          35  3.0   Festivus Uni   \n",
            "6      Estelle                         100  3.2  Festivus Uni    \n",
            "7          Leo                          15  2.4   Festivus Uni   \n",
            "8       Rachel                          50  4.0       Columbia   \n",
            "\n",
            "   Sense of Humour (0-5)  Salary  \n",
            "0                    3.0      40  \n",
            "1                    5.0      80  \n",
            "2                    4.2      60  \n",
            "3                    2.0      25  \n",
            "4                    0.0      50  \n",
            "5                    NaN      40  \n",
            "6                    1.7       0  \n",
            "7                    0.0      35  \n",
            "8                    NaN      75  \n"
          ]
        }
      ]
    }
  ],
  "metadata": {
    "kernelspec": {
      "display_name": "Python 3 (ipykernel)",
      "language": "python",
      "name": "python3"
    },
    "language_info": {
      "codemirror_mode": {
        "name": "ipython",
        "version": 3
      },
      "file_extension": ".py",
      "mimetype": "text/x-python",
      "name": "python",
      "nbconvert_exporter": "python",
      "pygments_lexer": "ipython3",
      "version": "3.10.13"
    },
    "colab": {
      "provenance": [],
      "include_colab_link": true
    }
  },
  "nbformat": 4,
  "nbformat_minor": 5
}
